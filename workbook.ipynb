{
 "cells": [
  {
   "cell_type": "code",
   "execution_count": 17,
   "metadata": {},
   "outputs": [
    {
     "name": "stdout",
     "output_type": "stream",
     "text": [
      "1550515844718833664 2022-07-22 09:19:19 -0700 <toddeherman> \"Where did Mr. Biden fall down on his bike?\"  \"I don't think that matters. What does matter is, all dementia-ridden, 79 year-olds who regularly fall down trying to climb stairs should go ride bikes as a photo opportunity.\"\n",
      "1550515393881485312 2022-07-22 09:17:31 -0700 <toddeherman> The fact that anyone who works in \"news\" still takes the words of \"public\" \"health\" officials seriously is all the proof anyone needs that we live in a controlled media environment.  https://t.co/HPCQzGGBGK\n",
      "1550514252221681664 2022-07-22 09:12:59 -0700 <5y42902c54N> 2) Hydroflask (pls) I WANNA PUT CUTE STICKERS ON IT :33333  https://t.co/2adspdyzqx\n",
      "1550511589941383169 2022-07-22 09:02:24 -0700 <PilipinoTotoo> @YuujiS3nPai Kahit ano pang brand. Better to bring water than purchase single use plastic bottle. Coleman noon Pero ang laki... Mas madaling dalhin yung aqua/hydroflask\n",
      "1550511391202689024 2022-07-22 09:01:37 -0700 <kwonyuwreee> bumibili siya hydroflask?\n",
      "1550508647519764484 2022-07-22 08:50:43 -0700 <HydroFlask> @Natty__Ice Yes, you can use dry ice in your cooler bag 😊.\n",
      "1550505460326883328 2022-07-22 08:38:03 -0700 <BurdetteStark18> Not a Hugger Cactus Sticker, Cute Plant Stickers for Hydroflask Water Bottle | Funny Succulent Vinyl Decals for Laptop, House [AXLAYFR]   https://t.co/pn3SYdhzNG\n",
      "1550504794737049603 2022-07-22 08:35:24 -0700 <tehshawn> The floors quake, animals of all species run for their lives, children begin to cry, adults jump from pure fear and terror, the impact is deafening.  I dropped my hydro flask.\n",
      "1550504032132669442 2022-07-22 08:32:22 -0700 <theogchapa> S/O Mama Bear For Bringing Me My Hydroflask Of Water &amp; Some Breakfast! She’s The Best🥺💜\n",
      "1550503235823095808 2022-07-22 08:29:13 -0700 <Ciscoo_> I forgot my hydroflask…  https://t.co/0Gaa2TRHOc\n",
      "1550501039043817473 2022-07-22 08:20:29 -0700 <syltrltgtr> @YuujiS3nPai @NashNacion Mas mahal pala yung hydroflask. Search ko nga. Pero mas mahal pa rin kleen kanteen at yung the coldest water. Kaya di ko rin alam bakit sinasabing pasosyal ang may aquaflask, I mean gusto ko lang naman lagi ng malamig na tubig, bakit may panghuhusga? 😁\n",
      "1550500443305811968 2022-07-22 08:18:07 -0700 <yaereIi> @jakesideph tapos lagay mo ulit sa hydroflask mo yung alak\n",
      "1550488300082941957 2022-07-22 07:29:52 -0700 <ByronMaurice28> InstituteForPR: Need a tumbler that will keep your wine at the perfect temperature and want to support research in the industry? Purchase the IPR HydroFlask Wine Bottle here:  https://t.co/R07yZwf0q0  https://t.co/tdEck6ikOp\n",
      "1550484392862171143 2022-07-22 07:14:20 -0700 <HydroFlask> @DebSkibO We are sorry for any issues you are having with your flask. We would like to help with a replacement flask. They are covered under our limited lifetime warranty. Please send us a DM with your contact information and e-mail.\n",
      "1550481501904584705 2022-07-22 07:02:51 -0700 <InstituteForPR> Need a tumbler that will keep your wine at the perfect temperature and want to support research in the industry? Purchase the IPR HydroFlask Wine Bottle here:  https://t.co/ZOoMO0EfPU  https://t.co/5NnjR6fGUF\n",
      "1550480793461456898 2022-07-22 07:00:02 -0700 <thewhichdoctor> You'll never be thirsty with this Stainless Steel Hydro Flask Water Bottle. #bottle #water #hydroflask #drinking #fitness #summer #deals #shopping #ad  https://t.co/eTvuBL5HG1\n",
      "1550478303529644032 2022-07-22 06:50:08 -0700 <aimaris3> เห็นมีคนมารีวิว Hydroflask แล้วอยากเสริมว่ายี่ห้อนี้มีอะไหล่ขายแยกด้วย ก็คือสะวกมากเวลาอะไรหายหรือพังไม่ต้องซื้อใหม่ทั้งแก้ว เลยซื้ออีกยี่ห้อนึงมีอะไหล่แต่ไม่มีเายในไทย ค่าส่งคือซื้อแก้วใหม่เถอะ\n",
      "1550468832166576128 2022-07-22 06:12:30 -0700 <allegryofdcave> @RonaldRRaymund2 @jeproks73 @YuujiS3nPai Yung baunan natin ang titibay eh. Yung design nga ung mga sikat na tv shows or cartoons ano? Opo, nakakatulong ung ginger ale para di mamaos agad lalo pag sunod2 ung class noon. Deadma, ako ang may thermos at di ung mga stus ko.Hahaha! Hydro Flask pala ung brand na pinag-uusapan\n",
      "1550464043533488128 2022-07-22 05:53:28 -0700 <Quinn92942705> Big Hydro Flask, Drives a Mercedes AMG-63, Favorite Brand Ralph Lauren Influenced by Punk/Emo, Claims that Tupac is his Dad, From Tuscaloosa, Alabama\n",
      "1550462415334023176 2022-07-22 05:47:00 -0700 <bllzxcv> di ko kinakaya presyo ng hydroflask pero parang ang ganda ng red o kaya black 🥹\n",
      "1550459809027149830 2022-07-22 05:36:39 -0700 <Yasmine6612> Coricha Cup Holder Expander for Car 2 in 1 Cup Phone Holder Automotive Cup Holder Adapter Fits Hydro Flask, Yeti, Nalgene, La [DGFQXSE]   https://t.co/sckSQMO9J8\n",
      "1550458260985200640 2022-07-22 05:30:30 -0700 <Natty__Ice> @HydroFlask Question: can you use dry ice in your cooler bag? Just traveling for maybe 3-5 hours.\n",
      "1550456671285022721 2022-07-22 05:24:11 -0700 <BrattneyLee1996> My #etsyshop is going to launch today 🥲 Imagine a sticker like this on your hydro flask 🥹  Shop #LGBT #womanowned #smallbusiness  https://t.co/Nu0w5Bl72F\n",
      "1550454402766770177 2022-07-22 05:15:10 -0700 <lilspinach> if yall dont go and fill up ur hydroflask rn.....\n",
      "1550453606360694784 2022-07-22 05:12:00 -0700 <UNL0YALSTAY> Anong klaseng sticker ba yung dinidikit sa mga aqua/hydro flask? Hehe\n",
      "1550452987482411008 2022-07-22 05:09:32 -0700 <AndreaVernot> Thankful for #MarylandsCoast #Hydroflask as we head out to Stump Point on the Nanticoke for oster bed restoration w/@HoopersIsland #placebranding  https://t.co/5QEowSs08S\n",
      "1550450392990855169 2022-07-22 04:59:14 -0700 <raisaous> no plastic bottles and use ebooks to lessen paper ang dlsu so ang mga students kay mag hydroflask ug ipad HHHHHHH SORRY KAAYO🙏\n",
      "1550440050801881088 2022-07-22 04:18:08 -0700 <Leanna593> Edward Abbey Wilderness Quote Sticker | Wilderness is Not a Luxury | Black Vinyl Nature Quote Decal for Hydroflask, Laptop, R [4GILUDQ]   https://t.co/jl673Ye2Yx\n",
      "1550431661451386880 2022-07-22 03:44:48 -0700 <ARRANGUEZZZZZZ> Isang hydroflask nanaman ang naiwan sa taxi 🙃\n",
      "1550428499370188800 2022-07-22 03:32:14 -0700 <_stephsun> @YuujiS3nPai Aquaflask is cheaper than Hydroflask. Tapos mga status symbol eme ang Klean Kanteen, Corkcicle, Thermos etc.   I see a lot of people bringing flasks to the gym. And to their everyday commute.  Status symbol dahil ba mahal?  Lels. But in fairness, they are very useful.\n",
      "1550421148613062656 2022-07-22 03:03:01 -0700 <futabark> HYDROFLASK HAVER\n",
      "1550417714032025600 2022-07-22 02:49:23 -0700 <MR_MsDOS> Mentally i'm at sea, physically enjoying a mermaid cup-full latte and my cold drink from my mermaid gradient #Hydroflask  🧜🏻‍♀️🫶🏼💦🧡  https://t.co/VT7cCRkQyf\n",
      "1550410098677202944 2022-07-22 02:19:07 -0700 <chrisxzj> Naka Herschel and hydroflask at ipad naba lahat dito sa blue school ko?? 😭\n",
      "1550410053970104320 2022-07-22 02:18:56 -0700 <tricia_2018> In a span of like a 3 hours of sleep I had a dream that 1. V realistic dream that I had plans w this dude tonight (I do not, but woke up wondering?) 2. My hydro flask straw had dog poop on it for weeks without my knowledge 3. A megladon eating a great white shark in front of me\n",
      "1550409257220186112 2022-07-22 02:15:46 -0700 <Iliana515> Down the Shore Sticker for Car, Cute Jersey Shore Stickers for Hydroflask, New Jersey Quotes, NJ Beaches Vinyl Decals for Lap [TUUV7ZC]   https://t.co/SNCrdibsXQ\n",
      "1550406111031078912 2022-07-22 02:03:16 -0700 <BenjPagt> Nagrereklamo sa taas ng presyo ng gasolina, bigas at iba pang bilihin, pero may pera para sa megaphones, effigies, placards, banners, flags, spray paint, etc. Yung iba mga naka-Hydro Flask pa. Mga ipokrito kayong mga welgista kayo.\n",
      "1550404363524644864 2022-07-22 01:56:20 -0700 <JavierGris_> @YuujiS3nPai Oo nga. Plastic. Tapos pinagyayabang ng hydroflask it can keep liquids hot or cold, parang thermos. Pero kung ganon, why not get Thermos?\n",
      "1550404333044482049 2022-07-22 01:56:12 -0700 <tnnrn1> 💥EcoNour Car Cup Holder Expander | Stable Cup Holder for Car Designed for 32/40 oz Hydroflask, Yeti, 40 oz 50/50 Flask, Coffee Mug, and Large Water Bottle | Car Accessories for Most Re 🛒 https://t.co/Ar4OkTZ4Qk ❌$15.99 ✅$12.78 🔔 ...  https://t.co/gzh8qKpnxU\n",
      "1550401859588096001 2022-07-22 01:46:23 -0700 <JavierGris_> @YuujiS3nPai new fangled ek-ek na galing amerika yang hydroflask, e. Strange. Nalgene did not get that kind of reaction. Probably because sports bottle siya.\n",
      "1550400693479014407 2022-07-22 01:41:45 -0700 <melisma_r> @steftsitsipas if I bring you a @HydroFlask for the @CincyTennis, will you use it? If so, what’s your favorite color?\n",
      "1550392919047081990 2022-07-22 01:10:51 -0700 <PKris35> Hydro Flask Insulated Lunch Bag [FKFTLHE]   https://t.co/z25XBcNae9\n",
      "1550391966923427840 2022-07-22 01:07:04 -0700 <EllenDevonport> Eeek - all set for #TheakstonCrime I'm the one in a Pet Semetary t-shirt with a Minions hydroflask #HarrogateSayHello  https://t.co/S4aWv59506\n",
      "1550391963609972736 2022-07-22 01:07:03 -0700 <allegedlycelina> It’s me knocking my hydro flask off my side table in the middle of the night for me\n",
      "1550388121866420224 2022-07-22 00:51:47 -0700 <sophpiencenaves> i swear mukang hydroflask ung aquaflask pic kanina kaya i chose water bottle  #Day2UFO2022\n",
      "1550384105879404546 2022-07-22 00:35:50 -0700 <sungshaunn> ebbg real na talaga ako kasi bumili ng hydroflask taena 😭\n",
      "1550381835934650369 2022-07-22 00:26:49 -0700 <briantandreiii> wala ra jud ko nagmahay nagbuy kog hydroflask ugh\n",
      "1550378719763730432 2022-07-22 00:14:26 -0700 <sporer44> Hydro Flask Flamingo Wide Mouth Flex Cap Bottle, 1 EA [9XUOBDO]   https://t.co/lkIZHNZbXZ\n",
      "1550377494997798912 2022-07-22 00:09:34 -0700 <d04191> @YuujiS3nPai dahil mahal?! so,kapag meron kang  aqua/hydroflask kahit pano nakakaluwag kau..meron dito samen buong pamilya nila may kanya kanyang aqua/hydroflask tapos pag my mga gatherings bitbit nila un..tanong ng tita ko \"ano yang mga bitbit nio? bakit lahat kau meron nian? anong laman?\"\n",
      "1550376145463427072 2022-07-22 00:04:12 -0700 <mofomorris> pathetically excited for my new hydro flask lid to arrive today and just realised I left the whole ass bottle at work last night☹️\n",
      "1550375640859348997 2022-07-22 00:02:12 -0700 <Eggontoast50> @GageMWGalaxy989 I got a hydro flask from LL Bean today cause my family forced me to buy something and I needed a new water bottle lol\n",
      "[!] No more data! Scraping will stop now.\n",
      "found 0 deleted tweets in this search.\n"
     ]
    }
   ],
   "source": [
    "import pandas as pd\n",
    "import twint\n",
    "import nest_asyncio\n",
    "from datetime import date\n",
    "\n",
    "def tweet_scrape(search_term):\n",
    "    nest_asyncio.apply()\n",
    "    c = twint.Config()\n",
    "    c.Lang = \"en\"\n",
    "    c.Since = str(date.today())\n",
    "    c.Search = [search_term]\n",
    "    c.Pandas = True\n",
    "    twint.run.Search(c)\n",
    "    Tweets_df = twint.storage.panda.Tweets_df\n",
    "    return Tweets_df\n",
    "\n",
    "\n",
    "Tweets_df = tweet_scrape('hydroflask')\n"
   ]
  },
  {
   "cell_type": "code",
   "execution_count": 18,
   "metadata": {},
   "outputs": [],
   "source": [
    "from vaderSentiment.vaderSentiment import SentimentIntensityAnalyzer\n",
    "\n",
    "def vader_scores(tweet):\n",
    "    \"\"\"\n",
    "    Run VADER sentiment analysis and return  values\n",
    "    \"\"\"\n",
    "    analyzer = SentimentIntensityAnalyzer()\n",
    "    vs = analyzer.polarity_scores(tweet)\n",
    "    return list(vs.values())\n",
    "\n",
    "\n",
    "def score_columns():\n",
    "    \"\"\"\n",
    "    Apply those values to the tweets_df and then seperate them into distinct columns\n",
    "    \"\"\"\n",
    "    Tweets_df['Sentiment'] = Tweets_df['tweet'].map(vader_scores)\n",
    "    Tweets_df[['negative','neutral','positive', 'compound']] = Tweets_df['Sentiment'].tolist()\n",
    "    Tweets_df.drop(columns='Sentiment', inplace=True)\n",
    "\n",
    "score_columns()\n"
   ]
  },
  {
   "cell_type": "code",
   "execution_count": 20,
   "metadata": {},
   "outputs": [],
   "source": [
    "from google.cloud import bigquery\n",
    "\n",
    "\n",
    "def load_bq(dataframe, table):\n",
    "    client = bigquery.Client()\n",
    "    df = dataframe\n",
    "    job = client.load_table_from_dataframe(df, table)\n",
    "    job.result()\n",
    "\n",
    "\n",
    "load_bq(Tweets_df,'deb-01-346001.vibe_shift.hydroflask')"
   ]
  }
 ],
 "metadata": {
  "kernelspec": {
   "display_name": "Python 3.7.13 ('venv': venv)",
   "language": "python",
   "name": "python3"
  },
  "language_info": {
   "codemirror_mode": {
    "name": "ipython",
    "version": 3
   },
   "file_extension": ".py",
   "mimetype": "text/x-python",
   "name": "python",
   "nbconvert_exporter": "python",
   "pygments_lexer": "ipython3",
   "version": "3.7.13"
  },
  "orig_nbformat": 4,
  "vscode": {
   "interpreter": {
    "hash": "2a5deefaf550d20deab6b03b5e0932f2b9bb7eade2c33450496cae7b7f8339d4"
   }
  }
 },
 "nbformat": 4,
 "nbformat_minor": 2
}
