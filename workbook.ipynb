{
 "cells": [
  {
   "cell_type": "code",
   "execution_count": 3,
   "metadata": {},
   "outputs": [
    {
     "name": "stdout",
     "output_type": "stream",
     "text": [
      "2022-07-22\n"
     ]
    }
   ],
   "source": [
    "import pandas as pd\n",
    "import twint\n",
    "import nest_asyncio\n",
    "from datetime import date\n",
    "\n",
    "def tweet_scrape(search_term, ):\n",
    "    nest_asyncio.apply()\n",
    "    c = twint.Config()\n",
    "    c.Lang = \"en\"\n",
    "    c.Since = 'datetime.today()'\n",
    "    c.Search = [search_term]\n",
    "    c.Pandas = True\n",
    "    twint.run.Search(c)\n",
    "    Tweets_df = twint.storage.panda.Tweets_df\n",
    "    return Tweets_df\n",
    "\n"
   ]
  },
  {
   "cell_type": "code",
   "execution_count": 11,
   "metadata": {},
   "outputs": [],
   "source": [
    "from vaderSentiment.vaderSentiment import SentimentIntensityAnalyzer\n",
    "\n",
    "def vader_scores(tweet):\n",
    "    \"\"\"\n",
    "    Run VADER sentiment analysis and return  values\n",
    "    \"\"\"\n",
    "    analyzer = SentimentIntensityAnalyzer()\n",
    "    vs = analyzer.polarity_scores(tweet)\n",
    "    return list(vs.values())\n",
    "\n",
    "\n",
    "def score_columns():\n",
    "    \"\"\"\n",
    "    Apply those values to the tweets_df and then seperate them into distinct columns\n",
    "    \"\"\"\n",
    "    Tweets_df['Sentiment'] = Tweets_df['tweet'].map(vader_scores)\n",
    "    Tweets_df[['negative','neutral','positive', 'compound']] = Tweets_df['Sentiment'].tolist()\n",
    "    Tweets_df.drop(columns='Sentiment', inplace=True)\n",
    "\n",
    "score_columns()\n"
   ]
  },
  {
   "cell_type": "code",
   "execution_count": 12,
   "metadata": {},
   "outputs": [
    {
     "name": "stderr",
     "output_type": "stream",
     "text": [
      "/home/jessgschu/projects/vibe-shift/venv/lib/python3.8/site-packages/google/cloud/bigquery/_pandas_helpers.py:558: UserWarning: Pyarrow could not determine the type of columns: cashtags, reply_to.\n",
      "  warnings.warn(\n"
     ]
    }
   ],
   "source": [
    "from google.cloud import bigquery\n",
    "\n",
    "Tweets_df.head()\n",
    "\n",
    "def load_bq(dataframe, table):\n",
    "    client = bigquery.Client()\n",
    "    df = dataframe\n",
    "    job = client.load_table_from_dataframe(df, table)\n",
    "    job.result()\n",
    "\n",
    "load_bq(Tweets_df,'deb-01-346001.vibe_shift.hydroflask')"
   ]
  }
 ],
 "metadata": {
  "kernelspec": {
   "display_name": "Python 3.7.13 ('venv': venv)",
   "language": "python",
   "name": "python3"
  },
  "language_info": {
   "codemirror_mode": {
    "name": "ipython",
    "version": 3
   },
   "file_extension": ".py",
   "mimetype": "text/x-python",
   "name": "python",
   "nbconvert_exporter": "python",
   "pygments_lexer": "ipython3",
   "version": "3.7.13"
  },
  "orig_nbformat": 4,
  "vscode": {
   "interpreter": {
    "hash": "2a5deefaf550d20deab6b03b5e0932f2b9bb7eade2c33450496cae7b7f8339d4"
   }
  }
 },
 "nbformat": 4,
 "nbformat_minor": 2
}
